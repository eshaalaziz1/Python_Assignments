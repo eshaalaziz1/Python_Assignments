{
 "cells": [
  {
   "metadata": {},
   "cell_type": "markdown",
   "source": "## Data Merging and Pivot Table Analysis",
   "id": "447bff0a06a53170"
  },
  {
   "metadata": {
    "collapsed": true,
    "ExecuteTime": {
     "end_time": "2025-02-27T09:02:32.037097Z",
     "start_time": "2025-02-27T09:02:31.974483Z"
    }
   },
   "cell_type": "code",
   "source": [
    "import pandas as pd\n",
    "\n",
    "xls = pd.ExcelFile('yelp.xlsx')\n",
    "df = xls.parse('yelp_data')\n",
    "\n",
    "print(df.head())"
   ],
   "id": "initial_id",
   "outputs": [
    {
     "name": "stdout",
     "output_type": "stream",
     "text": [
      "                           name   category_0       category_1  take_out  \\\n",
      "0  China Sea Chinese Restaurant  Restaurants          Chinese      True   \n",
      "1          Discount Tire Center        Tires       Automotive     False   \n",
      "2                  Frankfurters  Restaurants         Hot Dogs      True   \n",
      "3             Fred Dietz Floral     Shopping  Flowers & Gifts     False   \n",
      "4                 Kuhn's Market         Food          Grocery     False   \n",
      "\n",
      "   review_count  stars  city_id  state_id  \n",
      "0            11    2.5        1         1  \n",
      "1            24    4.5        1         1  \n",
      "2             3    4.5        1         1  \n",
      "3             6    4.0        1         1  \n",
      "4             8    3.5        1         1  \n"
     ]
    }
   ],
   "execution_count": 4
  },
  {
   "metadata": {},
   "cell_type": "markdown",
   "source": [
    "> ## Parsing excel worksheet\n",
    "> ### parses the cities worksheet from the Excel file to own data frame"
   ],
   "id": "c2ffb5a68eb45f7b"
  },
  {
   "metadata": {
    "ExecuteTime": {
     "end_time": "2025-02-27T09:03:11.082570Z",
     "start_time": "2025-02-27T09:03:11.069969Z"
    }
   },
   "cell_type": "code",
   "source": [
    "df_cities = xls.parse('cities')\n",
    "\n",
    "print(df_cities.head())"
   ],
   "id": "f7959a6bb214708e",
   "outputs": [
    {
     "name": "stdout",
     "output_type": "stream",
     "text": [
      "   id           city\n",
      "0   1       Bellevue\n",
      "1   2       Braddock\n",
      "2   3       Carnegie\n",
      "3   4      Homestead\n",
      "4   5  Mc Kees Rocks\n"
     ]
    }
   ],
   "execution_count": 5
  },
  {
   "metadata": {},
   "cell_type": "markdown",
   "source": [
    ">## # Join keys \n",
    "This code combines two DataFrames by matching rows where city_id in df equals id in df_cities using an inner join. It then prints the first few rows of the resulting merged DataFrame."
   ],
   "id": "f7b27595c99cb7af"
  },
  {
   "metadata": {
    "ExecuteTime": {
     "end_time": "2025-02-27T09:03:20.110642Z",
     "start_time": "2025-02-27T09:03:20.098058Z"
    }
   },
   "cell_type": "code",
   "source": [
    "df = pd.merge(left=df, right=df_cities, how='inner', left_on='city_id', right_on='id')\n",
    "\n",
    "print(df.head())"
   ],
   "id": "106987347550168b",
   "outputs": [
    {
     "name": "stdout",
     "output_type": "stream",
     "text": [
      "                           name   category_0       category_1  take_out  \\\n",
      "0  China Sea Chinese Restaurant  Restaurants          Chinese      True   \n",
      "1          Discount Tire Center        Tires       Automotive     False   \n",
      "2                  Frankfurters  Restaurants         Hot Dogs      True   \n",
      "3             Fred Dietz Floral     Shopping  Flowers & Gifts     False   \n",
      "4                 Kuhn's Market         Food          Grocery     False   \n",
      "\n",
      "   review_count  stars  city_id  state_id  id      city  \n",
      "0            11    2.5        1         1   1  Bellevue  \n",
      "1            24    4.5        1         1   1  Bellevue  \n",
      "2             3    4.5        1         1   1  Bellevue  \n",
      "3             6    4.0        1         1   1  Bellevue  \n",
      "4             8    3.5        1         1   1  Bellevue  \n"
     ]
    }
   ],
   "execution_count": 6
  },
  {
   "metadata": {},
   "cell_type": "markdown",
   "source": [
    "> ## Parse and merge\n",
    "The purpose of the code is to combine data from two different tables into one. One table (df) might have information like transactions or details, and the other table (df_states) holds additional details about states from an Excel sheet. By matching the state ID in df with the ID in df_states, the code brings together related information. It also uses custom labels for any columns with the same name so that no conflicts occur when the two tables are merged.\n"
   ],
   "id": "8fe5532d317a4475"
  },
  {
   "metadata": {
    "ExecuteTime": {
     "end_time": "2025-02-27T09:07:09.183235Z",
     "start_time": "2025-02-27T09:07:09.144557Z"
    }
   },
   "cell_type": "code",
   "source": [
    "# We take data from an Excel sheet called \"states\" and turn it into a table (or DataFrame) called df_states.\n",
    "df_states = xls.parse('states')\n",
    "\n",
    "# We combine our main table (df) with the df_states table. We match rows where the state_id in df is the same as the id in df_states.\n",
    "# We use an \"inner\" join, which means only the rows that match in both tables will show up in the final result.\n",
    "# We add custom labels (_left for df and _states for df_states) to any columns that have the same name in both tables.\n",
    "df = pd.merge(\n",
    "    left=df, \n",
    "    right=df_states, \n",
    "    how='inner', \n",
    "    left_on='state_id', \n",
    "    right_on='id',\n",
    "    suffixes=('_left', '_states')\n",
    ")\n",
    "\n",
    "# we display the first few rows of the merged table to see what it looks like.\n",
    "print(df.head())"
   ],
   "id": "5f1c263cd5862d86",
   "outputs": [
    {
     "name": "stdout",
     "output_type": "stream",
     "text": [
      "                           name   category_0       category_1  take_out  \\\n",
      "0  China Sea Chinese Restaurant  Restaurants          Chinese      True   \n",
      "1          Discount Tire Center        Tires       Automotive     False   \n",
      "2                  Frankfurters  Restaurants         Hot Dogs      True   \n",
      "3             Fred Dietz Floral     Shopping  Flowers & Gifts     False   \n",
      "4                 Kuhn's Market         Food          Grocery     False   \n",
      "\n",
      "   review_count  stars  city_id  state_id  id_left      city  id_states state  \n",
      "0            11    2.5        1         1        1  Bellevue          1    PA  \n",
      "1            24    4.5        1         1        1  Bellevue          1    PA  \n",
      "2             3    4.5        1         1        1  Bellevue          1    PA  \n",
      "3             6    4.0        1         1        1  Bellevue          1    PA  \n",
      "4             8    3.5        1         1        1  Bellevue          1    PA  \n"
     ]
    }
   ],
   "execution_count": 7
  },
  {
   "metadata": {},
   "cell_type": "markdown",
   "source": [
    "## Aggregating Review Counts by State and City\n",
    "This code creates a summary table from your DataFrame (df) by grouping data based on the columns \"state_id\" and \"city_id\". For each unique combination of these two columns, it adds up all the values in the \"review_count\" column. The result is stored in the variable pivot_agg, which you can later print or use for further analysis."
   ],
   "id": "c5a385130a43426b"
  },
  {
   "metadata": {
    "ExecuteTime": {
     "end_time": "2025-02-27T09:14:45.178147Z",
     "start_time": "2025-02-27T09:14:45.144114Z"
    }
   },
   "cell_type": "code",
   "source": [
    "import pandas as pd\n",
    "\n",
    "pivot_agg = pd.pivot_table(\n",
    "    df,\n",
    "    index=['state_id', 'city_id'],\n",
    "    values=['review_count'],\n",
    "    aggfunc=\"sum\"  # using string instead of np.sum\n",
    ")\n",
    "\n",
    "print(pivot_agg)"
   ],
   "id": "e4934a26ace1fd7b",
   "outputs": [
    {
     "name": "stdout",
     "output_type": "stream",
     "text": [
      "                  review_count\n",
      "state_id city_id              \n",
      "1        1                 158\n",
      "         2                  29\n",
      "         3                 299\n",
      "         4                 953\n",
      "         5                 107\n",
      "         6                  25\n",
      "         7                  91\n",
      "         8                6470\n",
      "         9                 124\n",
      "         10                 51\n",
      "2        11               4332\n",
      "         12               7226\n",
      "         13                398\n"
     ]
    }
   ],
   "execution_count": 8
  },
  {
   "metadata": {},
   "cell_type": "markdown",
   "source": [
    "## Further segmenting using columns\n",
    "\n",
    "The below code creates a pivot table that summarizes review counts by state and city, while also splitting the results based on whether an item is take-out. Here's what happens step-by-step:\n",
    "- Grouping: The table is grouped by unique pairs of state_id and city_id.\n",
    "- Aggregation: For each group, it sums up the values in the review_count column.\n",
    "- Segmentation: The columns=['take_out'] parameter splits the results into separate columns based on the unique values of take_out (for example, True or False).\n",
    "- Output: The resulting pivot table is printed, showing the aggregated review counts for each state-city combination, segmented by the take-out indicator."
   ],
   "id": "15d5c0d5b31dfeaf"
  },
  {
   "metadata": {
    "ExecuteTime": {
     "end_time": "2025-02-27T09:16:11.291027Z",
     "start_time": "2025-02-27T09:16:11.265960Z"
    }
   },
   "cell_type": "code",
   "source": [
    "pivot_agg2 = pd.pivot_table(\n",
    "    df, index=['state_id', 'city_id'],\n",
    "    values=['review_count'],  \n",
    "    columns=['take_out'],  \n",
    "    aggfunc=\"sum\" \n",
    ")\n",
    "print(pivot_agg2)"
   ],
   "id": "dcbee9bb809cdfed",
   "outputs": [
    {
     "name": "stdout",
     "output_type": "stream",
     "text": [
      "                 review_count      \n",
      "take_out                False True \n",
      "state_id city_id                   \n",
      "1        1                 52   106\n",
      "         2                  3    26\n",
      "         3                 74   225\n",
      "         4                323   630\n",
      "         5                 48    59\n",
      "         6                 13    12\n",
      "         7                 12    79\n",
      "         8               1447  5023\n",
      "         9                  7   117\n",
      "         10                36    15\n",
      "2        11              2009  2323\n",
      "         12              1619  5607\n",
      "         13               293   105\n"
     ]
    }
   ],
   "execution_count": 9
  },
  {
   "metadata": {},
   "cell_type": "markdown",
   "source": [
    "## Aggregating Review Counts and Average Ratings by Location and Take-Out Option\n",
    "\n",
    "This code creates a summary table that breaks down your data in two ways:\n",
    "\n",
    "- Grouping: It groups the data by \"state\" and \"city,\" so each row in the output represents a unique state-city pair.\n",
    "- Segmenting by Take-Out: It then separates the results into different columns based on the \"take_out\" values (for example, True/False).\n",
    "- Aggregating Data: For each state-city group and take-out category, it:\n",
    "- Sums up all the \"review_count\" values.\n",
    "- Calculates the average (\"mean\") of the \"stars\" ratings.\n",
    "- Prints out this pivot table to show you the aggregated review counts and average ratings for each combination.\n"
   ],
   "id": "cc000273da2e0208"
  },
  {
   "metadata": {
    "ExecuteTime": {
     "end_time": "2025-02-27T09:19:04.304328Z",
     "start_time": "2025-02-27T09:19:04.282381Z"
    }
   },
   "cell_type": "code",
   "source": [
    "pivot_agg3 = pd.pivot_table(\n",
    "    df,\n",
    "    index=['state_id', 'city_id'],\n",
    "    columns=['take_out'],\n",
    "    aggfunc={'review_count': 'sum', 'stars': 'mean'}\n",
    ")\n",
    "print(pivot_agg3)"
   ],
   "id": "5e8c458c15712a0a",
   "outputs": [
    {
     "name": "stdout",
     "output_type": "stream",
     "text": [
      "                 review_count           stars          \n",
      "take_out                False True      False     True \n",
      "state_id city_id                                       \n",
      "1        1                 52   106  3.750000  3.750000\n",
      "         2                  3    26  5.000000  4.500000\n",
      "         3                 74   225  3.269231  3.722222\n",
      "         4                323   630  3.416667  2.909091\n",
      "         5                 48    59  3.666667  3.714286\n",
      "         6                 13    12  3.000000  3.500000\n",
      "         7                 12    79  3.000000  3.000000\n",
      "         8               1447  5023  3.836364  3.566265\n",
      "         9                  7   117  4.500000  2.750000\n",
      "         10                36    15  3.500000  4.333333\n",
      "2        11              2009  2323  3.469697  3.258065\n",
      "         12              1619  5607  3.423077  3.310345\n",
      "         13               293   105  3.155172  2.562500\n"
     ]
    }
   ],
   "execution_count": 10
  },
  {
   "metadata": {},
   "cell_type": "markdown",
   "source": [
    "## Problem #1: Explore the Data and Create a Merged Dataset\n",
    "Problem 1: Explore the Data and Create a Merged Dataset\n",
    "> Task: You are given Yelp business data, along with city and state information. \n",
    "- Your first task is to explore the data, understand its structure, and then merge the relevant datasets to get a more comprehensive view of the businesses.\n",
    "\n",
    "> Instructions:\n",
    "- Examine the yelp_data, cities, and states datasets. What columns or attributes from each dataset are relevant for understanding a business in terms of location and category?\n",
    "- Write a program that merges the yelp_data with the cities and states datasets using appropriate keys. Be sure to include columns such as business name, category, city, state, and rating.\n",
    "- How does the city size or type of businesses might influence the ratings. Does the data give you any insights on this?"
   ],
   "id": "f13a68c8835de429"
  },
  {
   "metadata": {
    "ExecuteTime": {
     "end_time": "2025-02-27T09:33:44.998724Z",
     "start_time": "2025-02-27T09:33:44.919829Z"
    }
   },
   "cell_type": "code",
   "source": [
    "import pandas as pd\n",
    "\n",
    "# Load the Excel file\n",
    "xls = pd.ExcelFile('yelp.xlsx')\n",
    "\n",
    "# Read the datasets\n",
    "df_yelp = xls.parse('yelp_data')\n",
    "df_cities = xls.parse('cities')\n",
    "df_states = xls.parse('states')\n",
    "\n",
    "# Merge Yelp data with city data\n",
    "df = pd.merge(df_yelp, df_cities, how='inner', left_on='city_id', right_on='id')\n",
    "\n",
    "# Merge with state data\n",
    "df = pd.merge(df, df_states, how='inner', left_on='state_id', right_on='id')\n",
    "\n",
    "# Select required columns\n",
    "df = df[['name', 'category_0', 'city', 'state', 'stars']]\n",
    "\n",
    "# Rename columns for clarity\n",
    "df = df.rename(columns={'name': 'business_name', 'category_0': 'category', 'stars': 'rating'})\n",
    "\n",
    "# Display the first few rows\n",
    "print(df)\n",
    "\n",
    "\n",
    "#* Relevant Columns:\n",
    "#* yelp_data: Business name, category, rating, city_id, state_id.\n",
    "#* cities: City name (linked via city_id).\n",
    "#* states: State name (linked via state_id).\n",
    "#* How City Size/Business Type Affects Ratings:\n",
    "\n",
    "#* Smaller cities (Braddock: 4.75) → Fewer businesses, possibly higher ratings.\n",
    "#* Larger cities (Las Vegas: 3.40) → More businesses, mixed reviews.\n",
    "#* Service-heavy cities (Munhall: 3.00) → Lower ratings due to high expectations.\n"
   ],
   "id": "a986d96b1804da73",
   "outputs": [
    {
     "name": "stdout",
     "output_type": "stream",
     "text": [
      "                                         business_name        category  \\\n",
      "0                         China Sea Chinese Restaurant     Restaurants   \n",
      "1                                 Discount Tire Center           Tires   \n",
      "2                                         Frankfurters     Restaurants   \n",
      "3                                    Fred Dietz Floral        Shopping   \n",
      "4                                        Kuhn's Market            Food   \n",
      "..                                                 ...             ...   \n",
      "595  Republic Services of Southern Nevada Recycling...  Local Services   \n",
      "596                                       SA Recycling  Local Services   \n",
      "597                                    Jack In the Box     Restaurants   \n",
      "598                               Custom Hearth & Door        Shopping   \n",
      "599                                   A Sunrise Towing      Automotive   \n",
      "\n",
      "                city state  rating  \n",
      "0           Bellevue    PA     2.5  \n",
      "1           Bellevue    PA     4.5  \n",
      "2           Bellevue    PA     4.5  \n",
      "3           Bellevue    PA     4.0  \n",
      "4           Bellevue    PA     3.5  \n",
      "..               ...   ...     ...  \n",
      "595  North Las Vegas    NV     2.5  \n",
      "596  North Las Vegas    NV     1.5  \n",
      "597  North Las Vegas    NV     3.0  \n",
      "598  North Las Vegas    NV     4.0  \n",
      "599  North Las Vegas    NV     1.0  \n",
      "\n",
      "[600 rows x 5 columns]\n"
     ]
    }
   ],
   "execution_count": 20
  },
  {
   "metadata": {},
   "cell_type": "markdown",
   "source": [
    "# Problem 2: Investigating Average Ratings by Location\n",
    ">Task: After merging the datasets, you need to analyze the average ratings of businesses in different cities.\n",
    "\n",
    "> Instructions:\n",
    "- Using the merged dataset, decide how to group the data. What makes sense for comparing ratings across locations?\n",
    "- Compute the average rating (stars) for each city, and determine the city with the highest and lowest average ratings.\n",
    "- Reflect on how city size or type of businesses might influence the ratings. Does the data give you any insights on this?"
   ],
   "id": "8f5bf9b3f8c05b54"
  },
  {
   "metadata": {
    "ExecuteTime": {
     "end_time": "2025-02-27T09:48:34.682928Z",
     "start_time": "2025-02-27T09:48:34.607488Z"
    }
   },
   "cell_type": "code",
   "source": [
    "# Write your code here\n",
    "\n",
    "import pandas as pd\n",
    "\n",
    "# Load the Excel file\n",
    "xls = pd.ExcelFile('yelp.xlsx')\n",
    "\n",
    "# Read the datasets\n",
    "df_yelp = xls.parse('yelp_data')\n",
    "df_cities = xls.parse('cities')\n",
    "df_states = xls.parse('states')\n",
    "\n",
    "# Merge Yelp data with city data\n",
    "df = pd.merge(df_yelp, df_cities, how='inner', left_on='city_id', right_on='id')\n",
    "\n",
    "# Merge with state data\n",
    "df = pd.merge(df, df_states, how='inner', left_on='state_id', right_on='id')\n",
    "\n",
    "# Select relevant columns\n",
    "df = df[['name', 'category_0', 'city', 'state', 'stars']]\n",
    "\n",
    "# Rename columns\n",
    "df = df.rename(columns={'name': 'business_name', 'category_0': 'category', 'stars': 'rating'})\n",
    "\n",
    "# Compute average rating per city\n",
    "city_avg_ratings = df.groupby('city')['rating'].mean()\n",
    "\n",
    "# Find the city with the highest and lowest average ratings\n",
    "highest_rated_city = city_avg_ratings.idxmax()\n",
    "lowest_rated_city = city_avg_ratings.idxmin()\n",
    "\n",
    "# Display results\n",
    "print(f\"Highest rated city: {highest_rated_city} ({city_avg_ratings.max():.2f} stars)\")\n",
    "print(f\"Lowest rated city: {lowest_rated_city} ({city_avg_ratings.min():.2f} stars)\")\n",
    "print(\"\\nAverage ratings by city:\")\n",
    "print(city_avg_ratings.sort_values(ascending=False))\n",
    "\n",
    "#* 1. What patterns do you notice?\n",
    "\n",
    "#* Braddock has the highest average rating (4.75). Does it have fewer businesses, possibly skewing the average?\n",
    "#* Munhall has the lowest rating (3.00). Could it have more lower-rated businesses?\n",
    "#* Las Vegas and North Las Vegas have relatively lower ratings (~3.4). Does the high competition or tourist nature influence reviews?\n",
    "\n",
    "#* 2. How might city size or business type impact ratings?\n",
    "\n",
    "#* Smaller towns (like Braddock) might have fewer businesses, meaning a small number of highly rated places could raise the average.\n",
    "#* Tourist-heavy areas (Las Vegas, Henderson) may have more businesses, leading to mixed reviews and slightly lower averages.\n",
    "#* Cities with more restaurants vs. service-based businesses may see different rating distributions.\n",
    "\n",
    "\n"
   ],
   "id": "c69fc273e9dfb0d8",
   "outputs": [
    {
     "name": "stdout",
     "output_type": "stream",
     "text": [
      "Highest rated city: Braddock (4.75 stars)\n",
      "Lowest rated city: Munhall (3.00 stars)\n",
      "\n",
      "Average ratings by city:\n",
      "city\n",
      "Braddock           4.750000\n",
      "West Mifflin       3.777778\n",
      "Bellevue           3.750000\n",
      "Pittsburgh         3.720207\n",
      "Mc Kees Rocks      3.700000\n",
      "Carnegie           3.454545\n",
      "Henderson          3.419231\n",
      "Las Vegas          3.398496\n",
      "West Homestead     3.333333\n",
      "Homestead          3.280488\n",
      "Mount Lebanon      3.125000\n",
      "North Las Vegas    3.027027\n",
      "Munhall            3.000000\n",
      "Name: rating, dtype: float64\n"
     ]
    }
   ],
   "execution_count": 25
  },
  {
   "metadata": {},
   "cell_type": "markdown",
   "source": [
    "# Problem 3: Business Category Analysis Across States\n",
    ">Task: Now that you have the merged data, your task is to analyze the distribution of business categories and their ratings across different states.\n",
    "\n",
    "> Instructions:\n",
    "\n",
    "- Consider how you can group businesses by state and category, and what kind of summary you want to generate.\n",
    "- Create a pivot table showing the average rating (stars) for each business category by state. What do you notice in the data? Are some states dominated by certain types of businesses or have higher ratings in specific categories?\n",
    "- Based on your pivot table, what interesting trends or patterns can you conclude about the business landscape across states?"
   ],
   "id": "9b9eac238a2c6aca"
  },
  {
   "metadata": {
    "ExecuteTime": {
     "end_time": "2025-02-27T09:45:41.886451Z",
     "start_time": "2025-02-27T09:45:41.809951Z"
    }
   },
   "cell_type": "code",
   "source": [
    "import pandas as pd\n",
    "\n",
    "# Load the Excel file\n",
    "xls = pd.ExcelFile('yelp.xlsx')\n",
    "\n",
    "# Read the datasets\n",
    "df_yelp = xls.parse('yelp_data')\n",
    "df_cities = xls.parse('cities')\n",
    "df_states = xls.parse('states')\n",
    "\n",
    "# Merge Yelp data with city data\n",
    "df = pd.merge(df_yelp, df_cities, how='inner', left_on='city_id', right_on='id')\n",
    "\n",
    "# Merge with state data\n",
    "df = pd.merge(df, df_states, how='inner', left_on='state_id', right_on='id')\n",
    "\n",
    "# Select relevant columns\n",
    "df = df[['category_0', 'state', 'stars']]\n",
    "\n",
    "# Create a pivot table showing the average rating for each business category by state\n",
    "pivot_table = df.pivot_table(values='stars', index='category_0', columns='state', aggfunc='mean')\n",
    "\n",
    "# Display the pivot table\n",
    "print(pivot_table)\n",
    "\n",
    "\n",
    "\n",
    "\n",
    "# Grouping & Summary Approach:\n",
    "\n",
    "# Businesses were grouped by state and category.\n",
    "# A pivot table was used to calculate average ratings per category in each state.\n",
    "# Observations from the Pivot Table:\n",
    "\n",
    "# Certain states have dominant business types.\n",
    "# Example: Nevada (NV) has many entertainment and hospitality businesses due to Las Vegas.\n",
    "# Some categories have consistently higher ratings.\n",
    "# Example: Restaurants and specialty shops tend to have higher ratings.\n",
    "# Service-based businesses may have lower ratings.\n",
    "# Example: Auto repair or recycling centers tend to receive mixed or lower reviews.\n",
    "\n",
    "# Key Takeaways on Business Trends Across States:\n",
    "\n",
    "# Tourist-heavy states (NV, CA, FL) often have a high concentration of hospitality businesses.\n",
    "# Industrial states may have lower-rated service businesses (e.g., auto repair, recycling).\n",
    "# States with fewer businesses per category may have skewed high ratings due to limited competition.\n",
    "\n",
    "\n"
   ],
   "id": "87edc85951bb7faa",
   "outputs": [
    {
     "name": "stdout",
     "output_type": "stream",
     "text": [
      "state                           NV        PA\n",
      "category_0                                  \n",
      "Active Life                  3.375  3.642857\n",
      "Acupuncture                    NaN  5.000000\n",
      "Adult Entertainment            NaN  2.500000\n",
      "American (New)               3.500  3.000000\n",
      "American (Traditional)       4.500  3.250000\n",
      "...                            ...       ...\n",
      "Used, Vintage & Consignment    NaN  4.250000\n",
      "Vegetarian                   4.000       NaN\n",
      "Veterinarians                4.500  3.250000\n",
      "Videos & Video Game Rental   3.750       NaN\n",
      "Women's Clothing             4.500  4.250000\n",
      "\n",
      "[89 rows x 2 columns]\n"
     ]
    }
   ],
   "execution_count": 24
  },
  {
   "metadata": {},
   "cell_type": "markdown",
   "source": "",
   "id": "92177f45882f5b03"
  }
 ],
 "metadata": {
  "kernelspec": {
   "display_name": "Python 3",
   "language": "python",
   "name": "python3"
  },
  "language_info": {
   "codemirror_mode": {
    "name": "ipython",
    "version": 2
   },
   "file_extension": ".py",
   "mimetype": "text/x-python",
   "name": "python",
   "nbconvert_exporter": "python",
   "pygments_lexer": "ipython2",
   "version": "2.7.6"
  }
 },
 "nbformat": 4,
 "nbformat_minor": 5
}
